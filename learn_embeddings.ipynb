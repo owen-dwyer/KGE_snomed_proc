{
 "cells": [
  {
   "cell_type": "markdown",
   "id": "ed9d5f50",
   "metadata": {},
   "source": [
    "# Learn KG embeddings\n"
   ]
  },
  {
   "cell_type": "code",
   "execution_count": null,
   "id": "ea96a19c",
   "metadata": {},
   "outputs": [],
   "source": [
    "from pykeen.triples import TriplesFactory\n",
    "from pykeen.pipeline import pipeline\n",
    "import torch\n",
    "from pykeen.hpo import hpo_pipeline\n",
    "import pandas as pd\n",
    "import gc"
   ]
  },
  {
   "cell_type": "markdown",
   "id": "9308d191",
   "metadata": {},
   "source": [
    "## 0 | Setup\n",
    "\n",
    "Install pykeen library `pip install pykeen` - may need to restart Jupyter after\n",
    "\n",
    "Install GPU drivers:\n",
    "\n",
    "`sudo apt install ubuntu-drivers-common`\n",
    "\n",
    "`ubuntu-drivers devices` \n",
    "\n",
    "`sudo apt install nvidia-driver-XXX`\n",
    "\n",
    "(take the 'recommended' drive from the previous step, or if there's an out of data driver warning, try a more recent one)\n",
    "                                    \n",
    "Then restart if running on a virtual machine"
   ]
  },
  {
   "cell_type": "code",
   "execution_count": null,
   "id": "897b0081",
   "metadata": {},
   "outputs": [],
   "source": [
    "print( torch.cuda_is_available() )\n",
    "print( torch.cuda.device_count() )\n",
    "print( torch.cuda.current_device() )\n",
    "print( torch.cuda.get_device_name(0) )"
   ]
  },
  {
   "cell_type": "code",
   "execution_count": null,
   "id": "9af11aaa",
   "metadata": {},
   "outputs": [],
   "source": [
    "transitive = TriplesFactory.from_path('out/triples_transitive.txt', create_inverse_triples=False)"
   ]
  },
  {
   "cell_type": "code",
   "execution_count": null,
   "id": "61a55070",
   "metadata": {},
   "outputs": [],
   "source": [
    "tf = TriplesFactory.from_path('out/triples_case1.txt', create_inverse_triples=False)\n",
    "training, testing = tf.split(ratios=[0.95, 0.05])\n",
    "\n",
    "print( len(training.mapped_triples) )\n",
    "print( len(testing.mapped_triples) )"
   ]
  },
  {
   "cell_type": "markdown",
   "id": "0e498ce2",
   "metadata": {},
   "source": [
    "## 1 | Train model"
   ]
  },
  {
   "cell_type": "code",
   "execution_count": null,
   "id": "ef700249",
   "metadata": {},
   "outputs": [],
   "source": [
    "\n",
    "model_name = MODELNAME\n",
    "\n",
    "b = 4096\n",
    "\n",
    "gc.collect()\n",
    "\n",
    "torch.cuda.empty_cache()\n",
    "\n",
    "result = pipeline(\n",
    "    training = training,\n",
    "    testing = testing,\n",
    "    model = model_name,\n",
    "    training_loop = 'sLCWA',\n",
    "    negative_sampler = 'basic',\n",
    "    evaluator = 'RankBasedEvaluator',\n",
    "    epochs = 200,\n",
    "    optimizer = 'Adam',\n",
    "    training_kwargs = [\n",
    "        'batch_size' : b\n",
    "    ],\n",
    "    loss_kwargs = {\n",
    "        'margin' : 8\n",
    "    },\n",
    "    optimizer_kwargs = {\n",
    "        'lr' : 1e-3\n",
    "    },\n",
    "    device = 0,\n",
    "    random_seed = 42,\n",
    "    evaluation_kwargs = {\n",
    "        'additional_filter_triples' : [\n",
    "            training.mapped_triples, \n",
    "            transitive.mapped_triples\n",
    "        ],\n",
    "        'batch_size' : b\n",
    "    },\n",
    "    evaluator_kwargs = {\n",
    "        'batch_size' : b\n",
    "    },\n",
    "    negative_sampler_kwargs = {\n",
    "        'num_negs_per_pos' : 60\n",
    "    },\n",
    "    dimensions = 512\n",
    ")\n",
    "\n",
    "result.save_to_directory('out/' + model_name)\n",
    "\n"
   ]
  },
  {
   "cell_type": "markdown",
   "id": "52e17e00",
   "metadata": {},
   "source": [
    "## 2 | Plot results"
   ]
  },
  {
   "cell_type": "code",
   "execution_count": null,
   "id": "c2f04cee",
   "metadata": {},
   "outputs": [],
   "source": [
    "result.plot_losses()\n",
    "\n",
    "metrics = [\n",
    "    'adjusted_mean_rank_index',\n",
    "    'adjusted_mean_rank',\n",
    "    'mean_rank',\n",
    "    'mean_reciprocal_rank',\n",
    "    'inverse_geometric_mean_rank',\n",
    "    'hits@1',\n",
    "    'hits@10'\n",
    "]\n",
    "\n",
    "for m in metrics:\n",
    "    print(m, results.get_metric(m))"
   ]
  }
 ],
 "metadata": {
  "language_info": {
   "name": "python"
  }
 },
 "nbformat": 4,
 "nbformat_minor": 5
}
