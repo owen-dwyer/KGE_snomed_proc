{
 "cells": [
  {
   "cell_type": "markdown",
   "id": "ef10f010",
   "metadata": {},
   "source": [
    "# Create training triples from the SNOMED ontology"
   ]
  },
  {
   "cell_type": "markdown",
   "id": "0964c4bf",
   "metadata": {},
   "source": [
    "## 0 | Setup"
   ]
  },
  {
   "cell_type": "code",
   "execution_count": null,
   "id": "5ec2465b",
   "metadata": {},
   "outputs": [],
   "source": [
    "import pandas as pd\n",
    "snomed_dir = '---------' # Point this to the SNOMED source files\n",
    "\n",
    "concepts = pd.read_csv(snomed_dir + 'sct2_Concept_MONOSnapshot_GB_20240410.txt', sep='\\t')\n",
    "description = pd.read_csv(snomed_dir + 'sct2_Description_MONOSnapshot-en_GP_20240410.txt', sep='\\t')\n",
    "relationship = pd.read_csv(snomed_dir + 'sct2_Relationship_MONOSnapshot_GB_20240410.txt', sep='\\t')"
   ]
  },
  {
   "cell_type": "code",
   "execution_count": null,
   "id": "9710ce8e",
   "metadata": {},
   "outputs": [],
   "source": [
    "# Create dict to map SNOMED IDs to text terms (only for active concepts)\n",
    "description = description[ description['active']==1 ]\n",
    "id_to_concept = dict( zip( description['conceptID'], description['term'] ) )"
   ]
  },
  {
   "cell_type": "markdown",
   "id": "20b10b11",
   "metadata": {},
   "source": [
    "## 1 | Get transitive closure"
   ]
  },
  {
   "cell_type": "markdown",
   "id": "3d3ec666",
   "metadata": {},
   "source": [
    "The transitive closure file is useful for finding all entities of a given type, and therefore filtering the entire input set.\n",
    "\n",
    "Transitive closure relations aren't included in SNOMED distributions. Download the transitive closure script from https://confluence.ihtsdotools.org/display/DOCRELFMT/Transitive+closure+file and run it against the SNOMED files before continuing."
   ]
  },
  {
   "cell_type": "code",
   "execution_count": null,
   "id": "dc9f761b",
   "metadata": {},
   "outputs": [],
   "source": [
    "# Read in output of the transitive closure script\n",
    "transitive = pd.read_csv('transitive/transitive.txt', sep='\\t', header=None, names=['head','tail'])\n",
    "\n",
    "# Categories of entity to include in training:\n",
    "# Anything that has an IS A relationship to one of these entities (directly or transitively) will be included in training\n",
    "inclusion_categories = [\n",
    "    123037004,\n",
    "    260787004,\n",
    "    404684003,\n",
    "    272379006,\n",
    "    71388002,\n",
    "    373873005,\n",
    "    49062001,\n",
    "    105590001\n",
    "]\n",
    "print('Including ', [id_to_concept[i] for i in inclusion_categories])\n",
    "\n",
    "# Find all the children of these categories\n",
    "transitive_children = transitive[ transitive['tail'].isin(inclusion_categories) ]\n",
    "entities_to_include = set( transitive_children['head'].append( transitive_children['tail'] ) )\n",
    "print(len(entities_to_include),' child entities found')"
   ]
  },
  {
   "cell_type": "code",
   "execution_count": null,
   "id": "1c10ed63",
   "metadata": {},
   "outputs": [],
   "source": [
    "transitive_out = pd.DataFrame(\n",
    "    data = {\n",
    "        'head' : transitive['head'],\n",
    "        'relation' : id_to_concept[116680003],\n",
    "        'tail' : transitive['tail']\n",
    "    }\n",
    ")\n",
    "\n",
    "transitive_out"
   ]
  },
  {
   "cell_type": "code",
   "execution_count": null,
   "id": "29e6d109",
   "metadata": {},
   "outputs": [],
   "source": [
    "transitive_out_selected = transitive_out[ \n",
    "    transitive_out['head'].isin(entities_to_include) \n",
    "    | transitive_out['tail'].isin(entities_to_include)\n",
    "]\n",
    "\n",
    "print(len(transitive_out))\n",
    "print(len(transitive_out_selected))\n",
    "\n",
    "transitive_out_selected.to_csv('out/triples_transitive.txt', sep='\\t', header=None, index=None)"
   ]
  },
  {
   "cell_type": "code",
   "execution_count": null,
   "id": "35159b3d",
   "metadata": {},
   "outputs": [],
   "source": [
    "transitive_named = pd.DataFrame(\n",
    "    data = {\n",
    "        'head' : [id_to_concept[h] for h in transitive['head']],\n",
    "        'tail' : [id_to_concept[t] for t in transitive['tail']]\n",
    "    }\n",
    ")\n",
    "\n",
    "transitive_children_named = pd.DataFrame(\n",
    "    data = {\n",
    "        'head' : [id_to_concept[h] for h in transitive_children['head']],\n",
    "        'tail' : [id_to_concept[t] for t in transitive_children['tail']]\n",
    "    }\n",
    ")\n",
    "transitive_children_named['tail'].value_counts()"
   ]
  },
  {
   "cell_type": "code",
   "execution_count": null,
   "id": "025299d1",
   "metadata": {},
   "outputs": [],
   "source": [
    "# Reshape transitive relations to a dataframe\n",
    "\n",
    "transitive_relations_df = pd.DataFrame(\n",
    "    data = {\n",
    "        'sourceID' : transitive['head'],\n",
    "        'typeId' : 11668003,\n",
    "        'destinationId' : transitive['tail']\n",
    "    }\n",
    ")\n",
    "transitive_relations_df.head()\n"
   ]
  },
  {
   "cell_type": "markdown",
   "id": "a4985f99",
   "metadata": {},
   "source": [
    "## 2 | Filter the set of triples"
   ]
  },
  {
   "cell_type": "code",
   "execution_count": null,
   "id": "655e6e3a",
   "metadata": {},
   "outputs": [],
   "source": [
    "# Filter the source SNOMED table to only contain entities in the selected categories\n",
    "print('Source SNOMED table has ',len(relationship),' relationships')\n",
    "filtered_relationship = relationship[ relationship['active']==1 ][ ['sourceId','typeId','destinationID'] ]\n",
    "filtered_relationship = filtered_relationship[\n",
    "    filtered_relationship['sourceId'].isin(entities_to_include)\n",
    "    & filtered_relationship['destinationId'].isin(entities_to_include)\n",
    "]\n",
    "\n",
    "# Apply the same to the transitive closure file\n",
    "print('Transitive closure table table has ',len(transitive_relations_df),' relationships')\n",
    "filtered_transitive_relations_df = transitive_relations_df[\n",
    "    transitive_relations_df['sourceId'].isin(entities_to_include)\n",
    "    & transitive_relations_df['destinationId'].isin(entities_to_include)\n",
    "]\n",
    "\n",
    "# Merge the two lists\n",
    "all_relationships = filtered_relationship\n",
    "all_relationships['typeId'] = [id_to_concept[i] for i in all_relationships['typeId']]\n",
    "all_relationships"
   ]
  },
  {
   "cell_type": "code",
   "execution_count": null,
   "id": "7d057f18",
   "metadata": {},
   "outputs": [],
   "source": [
    "all_relationships['typeId'].value_counts()"
   ]
  },
  {
   "cell_type": "code",
   "execution_count": null,
   "id": "32643400",
   "metadata": {},
   "outputs": [],
   "source": [
    "# Exclude bidirectional relations that shouldn't have an inverse\n",
    "exclusion_relations = ['Associated with (attribute)', 'Temporally related to']\n",
    "all_relationships_to_invert = all_relationships[ ~ all_relationships['typeId'].isin(exclusion_relations) ]"
   ]
  },
  {
   "cell_type": "code",
   "execution_count": null,
   "id": "bb3fe1c9",
   "metadata": {},
   "outputs": [],
   "source": [
    "inverse_relationships = pd.DataFrame(data = {\n",
    "    'sourceId': all_relationships_to_invert['destinationId'],\n",
    "    'typeId' : 'INVERSE_'+all_relationships_to_invert['typeId'],\n",
    "    'destinationID' : all_relationships_to_invert['sourceId']\n",
    "})\n",
    "inverse_relationships"
   ]
  },
  {
   "cell_type": "code",
   "execution_count": null,
   "id": "c82f9c81",
   "metadata": {},
   "outputs": [],
   "source": [
    "all_relationships_and_inverse = all_relationships.append(inverse_relationships)\n",
    "\n",
    "print('Removed ', sum(all_relationships_and_inverse.duplicated()),' duplicates')\n",
    "all_relationships_and_inverse = all_relationships_and_inverse[  ~ all_relationships_and_inverse.duplicated() ]\n",
    "\n",
    "print('Final length: ', len(all_relationships_and_inverse))"
   ]
  },
  {
   "cell_type": "markdown",
   "id": "c7998d76",
   "metadata": {},
   "source": [
    "## 3 | Output the triples "
   ]
  },
  {
   "cell_type": "code",
   "execution_count": null,
   "id": "52d14c3f",
   "metadata": {},
   "outputs": [],
   "source": [
    "triples = all_relationships_and_inverse\n",
    "\n",
    "# Case 1: all original triples\n",
    "case1 = triples\n",
    "case1.to_csv('out/triples_case1.txt', sep='\\t', header=None, index=None)\n",
    "\n",
    "# Case 1: all original triples, plus inverse relations\n",
    "case2 = all_relationships\n",
    "case2.to_csv('out/triples_case2/txt', sep='\\t', header=None, index=None)"
   ]
  }
 ],
 "metadata": {
  "language_info": {
   "name": "python"
  }
 },
 "nbformat": 4,
 "nbformat_minor": 5
}
